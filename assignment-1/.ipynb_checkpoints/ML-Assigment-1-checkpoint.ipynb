{
 "cells": [
  {
   "cell_type": "code",
   "execution_count": 1,
   "id": "0e78aaef",
   "metadata": {},
   "outputs": [],
   "source": [
    "import numpy as np\n",
    "import matplotlib.pyplot as plt\n",
    "import matplotlib.patches as patches\n",
    "import random\n",
    "from math import ceil, floor\n",
    "\n",
    "random.seed(0)"
   ]
  },
  {
   "cell_type": "markdown",
   "id": "dbdd05c2",
   "metadata": {},
   "source": [
    "## Finding the most specific/general hypothesis [Warm-UP]"
   ]
  },
  {
   "cell_type": "code",
   "execution_count": 2,
   "id": "8d73432b",
   "metadata": {},
   "outputs": [],
   "source": [
    "# utilities for creating a dataset\n",
    "\n",
    "### data structure to represent dataset\n",
    "class Dataset:\n",
    "    def __init__(self, x: np.ndarray, y: np.ndarray, n = None):\n",
    "        # todo: assertion to verify the dimension of x and y\n",
    "        self.__x = x\n",
    "        self.__y = y\n",
    "        self.__n = n if n else len(x)\n",
    "    \n",
    "    @property\n",
    "    def x(self):\n",
    "        return self.__x\n",
    "\n",
    "    @property\n",
    "    def y(self):\n",
    "        return self.__y\n",
    "        \n",
    "    def __getitem__(self, index: int):\n",
    "        #todo: assertion to verify out of bounds\n",
    "        return self.__x[index], self.__y[index]\n",
    "    \n",
    "    def __setitem__(self, index: int, x_: np.ndarray, y_: np.ndarray):\n",
    "        # todo: assertion to verify out of bounds\n",
    "        self.__x[index] = x_\n",
    "        self.__y[index] = y_\n",
    "    \n",
    "    def __len__(self):\n",
    "        return self.__n\n",
    "    \n",
    "    def __del__(self):\n",
    "        del(self.__x)\n",
    "        del(self.__y)\n",
    "        del(self.__n)\n",
    "    \n",
    "    def __iter__(self):\n",
    "        self.__index = 0\n",
    "        return self\n",
    "    \n",
    "    def __next__(self):\n",
    "        if (self.__index < self.__n):\n",
    "            self.__index += 1\n",
    "            return self[self.__index - 1]\n",
    "        raise StopIteration\n",
    "\n",
    "### helper functions\n",
    "def binary_sampling(p: float) -> int:\n",
    "    # todo: assertion to verify validity of p\n",
    "    value = random.choices([1, 0], [p, 1-p])[0]\n",
    "    return value\n",
    "\n",
    "\n",
    "def uniform_range_sampling(union_of_ranges: list) -> float:\n",
    "    # make assertions about correctness of union_of_ranges\n",
    "    total_length = sum([(upper-lower) for lower, upper in union_of_ranges])\n",
    "    uniform_sample = random.uniform(0, total_length)\n",
    "\n",
    "    for lower, upper in union_of_ranges:\n",
    "        uniform_sample += lower\n",
    "        if (uniform_sample < upper):\n",
    "            return uniform_sample\n",
    "        uniform_sample -= upper\n",
    "\n",
    "    return None\n",
    "\n",
    "\n",
    "def x_sampling(x_range: dict, y: np.ndarray):\n",
    "    x = np.array([[uniform_range_sampling(union_of_ranges) for union_of_ranges in x_range[target]] for target in y])    \n",
    "    return x"
   ]
  },
  {
   "cell_type": "code",
   "execution_count": 3,
   "id": "690ff636",
   "metadata": {},
   "outputs": [],
   "source": [
    "# creating a dataset\n",
    "\n",
    "### setting up parameters required\n",
    "n = 30 # dataset-size\n",
    "p = 0.5 # probability of 1\n",
    "x_range = {1: [[(2, 7),], [(4, 6),]], 0: [[(0, 2), (7, 9)], [(1, 3), (6, 8)]]}\n",
    "\n",
    "\n",
    "def create_dataset(n, p, x_range):\n",
    "    ### generating vector y\n",
    "    y = np.array([binary_sampling(p) for _ in range(n)])\n",
    "\n",
    "    ### generating vector x\n",
    "    x = x_sampling(x_range, y)\n",
    "    \n",
    "    return Dataset(x, y)\n",
    "\n",
    "dataset = create_dataset(n, p, x_range)"
   ]
  },
  {
   "cell_type": "code",
   "execution_count": 4,
   "id": "a11a11e1",
   "metadata": {},
   "outputs": [
    {
     "name": "stdout",
     "output_type": "stream",
     "text": [
      "[1.90803911 7.46123971] 0\n",
      "[1.04196924 7.22011131] 0\n",
      "[4.74349652 4.0280834 ] 1\n",
      "[5.59852343 4.79764708] 1\n",
      "[8.29937991 6.6726128 ] 0\n",
      "[2.0057141  4.98715573] 1\n",
      "[8.4704111  1.97564351] 0\n",
      "[3.62602181 5.74094246] 1\n",
      "[2.95533546 5.13502148] 1\n",
      "[0.95446371 7.870161  ] 0\n",
      "[8.21271788 2.79187829] 0\n",
      "[0.32178327 2.28021842] 0\n",
      "[4.53970321 5.86566765] 1\n",
      "[0.43623138 6.20506898] 0\n",
      "[7.82624564 6.18976365] 0\n",
      "[6.07233432 5.08056721] 1\n",
      "[8.85535418 6.41274251] 0\n",
      "[7.35046826 2.77995611] 0\n",
      "[7.38514745 2.53960458] 0\n",
      "[7.30260406 2.16131801] 0\n",
      "[2.94695664 4.37345906] 1\n",
      "[7.45109272 6.62663756] 0\n",
      "[1.90612397 1.35929744] 0\n",
      "[8.03041569 7.50708148] 0\n",
      "[6.61690508 5.68492045] 1\n",
      "[6.49086561 5.84616488] 1\n",
      "[4.70299962 4.7825921 ] 1\n",
      "[7.8211336  2.10253649] 0\n",
      "[8.24651483 7.39794386] 0\n",
      "[8.58015587 6.35920473] 0\n"
     ]
    }
   ],
   "source": [
    "# printing the dataset\n",
    "for x, y in dataset:\n",
    "    print(x, y)"
   ]
  },
  {
   "cell_type": "markdown",
   "id": "24db8345",
   "metadata": {},
   "source": [
    "#### 1. Plotting the dataset"
   ]
  },
  {
   "cell_type": "code",
   "execution_count": 5,
   "id": "d4feeb7a",
   "metadata": {},
   "outputs": [
    {
     "data": {
      "image/png": "[encoded data removed]",
      "text/plain": [
       "<Figure size 432x288 with 1 Axes>"
      ]
     },
     "metadata": {
      "needs_background": "light"
     },
     "output_type": "display_data"
    }
   ],
   "source": [
    "### setting up parameters required\n",
    "color_code = {1: 'red', 0: 'green'}\n",
    "\n",
    "### function for plotting dataset\n",
    "def plot_dataset(ax, dataset: Dataset):\n",
    "    for x, y in dataset:\n",
    "        ax.scatter(*x, color = color_code[y])\n",
    "\n",
    "fig = plt.figure()\n",
    "ax = fig.add_subplot(111)\n",
    "plot_dataset(ax, dataset)\n",
    "\n",
    "plt.title('Plot')\n",
    "plt.xlabel('x_0')\n",
    "plt.ylabel('x_1')\n",
    "\n",
    "plt.show()"
   ]
  },
  {
   "cell_type": "markdown",
   "id": "6e2f92c7",
   "metadata": {},
   "source": [
    "####  Before proceeding to 2nd part, let us create data structures to represent and plot cartesian coordinates, circle and rectange"
   ]
  },
  {
   "cell_type": "code",
   "execution_count": 56,
   "id": "100c6e81",
   "metadata": {
    "scrolled": true
   },
   "outputs": [],
   "source": [
    "'''\n",
    "An axis aligned rectangle can be uniquely identified by a pair of diagonally opposite vertices\n",
    "\n",
    "A circle can be uniquely identified by a center and a radius\n",
    "'''\n",
    "\n",
    "### Data Structure to represent a point, an axis-aligned rectangle and a circle\n",
    "class Point:\n",
    "    def __init__(self, x: float, y: float):\n",
    "        self.__x = y\n",
    "        self.__y = y\n",
    "        self.__coordinates = [x, y]\n",
    "    \n",
    "    @property\n",
    "    def x(self) -> float:\n",
    "        return self.__coordinates[0]\n",
    "    \n",
    "    @property\n",
    "    def y(self) -> float:\n",
    "        return self.__coordinates[1]\n",
    "    \n",
    "    @property\n",
    "    def coordinates(self) -> list:\n",
    "        return self.__coordinates\n",
    "    \n",
    "    @coordinates.setter\n",
    "    def coordinates(self, value: list):\n",
    "        self.__coordinates = value\n",
    "        self.__x, self.__y = value\n",
    "        \n",
    "    @x.setter\n",
    "    def x(self, value: float):\n",
    "        self.__x = value\n",
    "        self.__coordinates[0] = value\n",
    "    \n",
    "    @y.setter\n",
    "    def y(self, value: float):\n",
    "        self.__y = value\n",
    "        self.__coordinates[1] = value\n",
    "    \n",
    "    def __repr__(self) -> str:\n",
    "        return str(list(map(lambda n: '%.2f'%n, self.__coordinates)))\n",
    "    \n",
    "    def __del__(self):\n",
    "        del(self.__coordinates)\n",
    "\n",
    "class Rectangle:\n",
    "    def __init__(self, low: list = None, high: list = None):\n",
    "        self.__low = Point(*low) if low else Point(0, 0)\n",
    "        self.__high = Point(*high) if high else Point(0, 0)\n",
    "        \n",
    "    @property\n",
    "    def low(self):\n",
    "        return self.__low\n",
    "    \n",
    "    @property\n",
    "    def high(self):\n",
    "        return self.__high\n",
    "    \n",
    "    @property\n",
    "    def left(self):\n",
    "        return self.__low.x\n",
    "    \n",
    "    @property\n",
    "    def right(self):\n",
    "        return self.__high.x\n",
    "    \n",
    "    @property\n",
    "    def bottom(self):\n",
    "        return self.__low.y\n",
    "    \n",
    "    @property\n",
    "    def top(self):\n",
    "        return self.__high.y\n",
    "    \n",
    "    @property\n",
    "    def width(self):\n",
    "        return self.__high.x - self.__low.x\n",
    "    \n",
    "    @property\n",
    "    def height(self):\n",
    "        return self.__high.y - self.__low.y\n",
    "    \n",
    "    @low.setter\n",
    "    def low(self, value: list):\n",
    "        self.__low.coordinates = value\n",
    "        \n",
    "    @high.setter\n",
    "    def high(self, value: list):\n",
    "        self.__high.coordinates = value\n",
    "    \n",
    "    @left.setter\n",
    "    def left(self, value: float):\n",
    "        self.__low.x = value\n",
    "    \n",
    "    @right.setter\n",
    "    def right(self, value: float):\n",
    "        self.__high.x = value\n",
    "    \n",
    "    @bottom.setter\n",
    "    def bottom(self, value: float):\n",
    "        self.__low.y = value\n",
    "    \n",
    "    @top.setter\n",
    "    def top(self, value: float):\n",
    "        self.__high.y = value\n",
    "        \n",
    "    def contains(self, x, y):\n",
    "        # returns true if point strictly lies inside\n",
    "        if (y >= self.top or y <= self.bottom):\n",
    "            return False\n",
    "        if (x >= self.right or x <= self.left):\n",
    "            return False\n",
    "        return True\n",
    "    \n",
    "    def plot(self, ax, color='black'):\n",
    "        if (self.height == float('inf') and self.width == float('inf')):\n",
    "            return\n",
    "        if (self.height == float('inf')):\n",
    "            ax.axvline(x=self.left, color=color)\n",
    "            ax.axvline(x=self.right, color=color)\n",
    "            return\n",
    "        if (self.width == float('inf')):\n",
    "            ax.axhline(y=self.top, color=color)\n",
    "            ax.axhline(y=self.bottom, color=color)\n",
    "            return\n",
    "        rect = patches.Rectangle((self.left, self.bottom), self.width, self.height, color=color)\n",
    "        rect.set_fill(False)\n",
    "        ax.add_patch(rect)\n",
    "    \n",
    "    def __repr__(self):\n",
    "        return f'''Rectangle Vertices:\n",
    "({self.__low.x: .2f}, {self.__high.y: .2f})\\t({self.__high.x: .2f}, {self.__high.y: .2f})\n",
    "({self.__low.x: .2f}, {self.__low.y: .2f})\\t({self.__high.x: .2f}, {self.__low.y: .2f})\n",
    "'''\n",
    "    \n",
    "    def __del__(self):\n",
    "        del(self.__low)\n",
    "        del(self.__high)\n",
    "        \n",
    "class Circle:\n",
    "    def __init__(self, center: list = None, radius: float = None):\n",
    "        self.__center = Point(*center) if center else Point(0, 0)\n",
    "        self.__radius = radius if radius else 0\n",
    "    \n",
    "    def construct_from_three_points(self, p1: list, p2: list, p3: list):\n",
    "        # using complex numbers to represent points for ease\n",
    "        p1 = complex(*p1)\n",
    "        p2 = complex(*p2)\n",
    "        p3 = complex(*p3)\n",
    "        \n",
    "        # midpoints of two chords\n",
    "        mid12 = (p1+p2)/2\n",
    "        mid23 = (p2+p3)/2\n",
    "        \n",
    "        # unit vectors orthogonal to the two chords\n",
    "        orth12 = (p1-p2)*(1j) / abs(p1-p2)\n",
    "        orth23 = (p2-p3)*(1j) / abs(p2-p3)\n",
    "        \n",
    "        # check if orth12 and orth23 have acute angle between them, else flip any one\n",
    "        dot_product = orth12.real * orth23.real + orth12.imag * orth23.imag\n",
    "        if (dot_product < 0):\n",
    "            orth23 *= -1\n",
    "        \n",
    "        # finding the center of the circle\n",
    "        t = (mid23 - mid12) / (orth12 - orth23)\n",
    "        center = mid12 + t*orth12\n",
    "        radius = abs(center - p1)\n",
    "        \n",
    "        # updating parameters for the object\n",
    "        self.center = ([center.real, center.imag])\n",
    "        self.radius = (radius)\n",
    "        \n",
    "    def construct_from_diameter_endpoints(self, p1: list, p2: list):\n",
    "        # using complex numbers to represent points for ease\n",
    "        d1, d2 = complex(*p1), complex(*p2)\n",
    "        \n",
    "        # finding center and radius\n",
    "        center = (d1+d2)/2\n",
    "        radius = abs((d1-d2)/2)\n",
    "        center = [center.real, center.imag]\n",
    "        \n",
    "        # updating parameters for the object\n",
    "        self.center = center\n",
    "        self.radius = radius\n",
    "    \n",
    "    @property\n",
    "    def center(self):\n",
    "        return self.__center\n",
    "    \n",
    "    @property\n",
    "    def radius(self):\n",
    "        return self.__radius\n",
    "    \n",
    "    @center.setter\n",
    "    def center(self, value: list):\n",
    "        self.__center = Point(*value)\n",
    "    \n",
    "    @radius.setter\n",
    "    def radius(self, value: float):\n",
    "        self.__radius = value\n",
    "        \n",
    "    def contains(self, x, y):\n",
    "        p = complex(x, y)\n",
    "        c = complex(self.center.x, self.center.y)\n",
    "        if (abs(p-c) < self.__radius):\n",
    "            return True\n",
    "        return False\n",
    "    \n",
    "    def plot(self, ax, color = 'black'):\n",
    "        circle = patches.Circle((self.center.x, self.center.y), self.radius, color=color)\n",
    "        circle.set_fill(False)\n",
    "        ax.add_patch(circle)\n",
    "    \n",
    "    def __repr__(self):\n",
    "        return f'Circle => \\tCenter: {self.__center}\\tRadius: {self.__radius: .2f}'\n",
    "    \n",
    "    def __del__(self):\n",
    "        del(self.__center)\n",
    "        del(self.__radius)"
   ]
  },
  {
   "cell_type": "markdown",
   "id": "d415d61d",
   "metadata": {},
   "source": [
    "#### 2. Hypothesis Class = Axis Aligned Rectangle"
   ]
  },
  {
   "cell_type": "code",
   "execution_count": 7,
   "id": "268ee848",
   "metadata": {},
   "outputs": [],
   "source": [
    "### function for most specific hypothesis with rectangle\n",
    "def most_specific_rectangle(dataset: Dataset) -> Rectangle:\n",
    "    \n",
    "    # find some positive example from given dataset\n",
    "    p_instance = None\n",
    "    for ((x, y), t) in dataset:\n",
    "        if (t == 1):\n",
    "            p_instance = [x, y]\n",
    "            break\n",
    "\n",
    "    # initialize rectangle to be that point\n",
    "    rect = Rectangle(p_instance, p_instance)\n",
    "    \n",
    "    # grow the rectangle to include all positive instances\n",
    "    for ((x, y), t) in dataset:\n",
    "        if (t == 0): continue\n",
    "        if (x < rect.left): rect.left = x\n",
    "        if (x > rect.right): rect.right = x\n",
    "        if (y > rect.top): rect.top = y\n",
    "        if (y < rect.bottom): rect.bottom = y\n",
    "    return rect"
   ]
  },
  {
   "cell_type": "code",
   "execution_count": 8,
   "id": "049c0372",
   "metadata": {},
   "outputs": [],
   "source": [
    "### function for most general hypothesis with rectangle\n",
    "def most_general_rectangle(dataset: Dataset) -> Rectangle:\n",
    "    \n",
    "    # initialize rectangle as the most specific hypothesis\n",
    "    rect = most_specific_rectangle(dataset)\n",
    "    \n",
    "    # grow the rectangle in y direction as far as possible without including negatives\n",
    "    y_top, y_bottom = rect.top, rect.bottom\n",
    "    rect.top, rect.bottom = float('inf'), float('-inf')\n",
    "    for ((x, y), t) in dataset:\n",
    "        if (t == 1): continue\n",
    "        if (rect.contains(x, y)):\n",
    "            if (y > y_top):\n",
    "                rect.top = min(rect.top, y)\n",
    "            elif (y < y_bottom):\n",
    "                rect.bottom = max(rect.bottom, y)\n",
    "    \n",
    "    # grow the rectangle in x direction as far as possible without including negatives\n",
    "    x_right, x_left = rect.right, rect.left\n",
    "    rect.right, rect.left = float('inf'), float('-inf')\n",
    "    for ((x, y), t) in dataset:\n",
    "        if (t == 1): continue\n",
    "        if (rect.contains(x, y)):\n",
    "            if (x > x_right):\n",
    "                rect.right = min(rect.right, x)\n",
    "            elif (x < x_left):\n",
    "                rect.left = max(rect.left, x)\n",
    "                \n",
    "    return rect"
   ]
  },
  {
   "cell_type": "code",
   "execution_count": 9,
   "id": "48ac2f42",
   "metadata": {},
   "outputs": [],
   "source": [
    "spec_rect = most_specific_rectangle(dataset)\n",
    "gen_rect = most_general_rectangle(dataset)"
   ]
  },
  {
   "cell_type": "code",
   "execution_count": 10,
   "id": "61bbdbcb",
   "metadata": {},
   "outputs": [
    {
     "data": {
      "text/plain": [
       "Rectangle Vertices:\n",
       "( 2.01,  5.87)\t( 6.62,  5.87)\n",
       "( 2.01,  4.03)\t( 6.62,  4.03)"
      ]
     },
     "execution_count": 10,
     "metadata": {},
     "output_type": "execute_result"
    }
   ],
   "source": [
    "spec_rect"
   ]
  },
  {
   "cell_type": "code",
   "execution_count": 11,
   "id": "e0add22b",
   "metadata": {},
   "outputs": [
    {
     "data": {
      "text/plain": [
       "Rectangle Vertices:\n",
       "( 1.91,  inf)\t( 7.30,  inf)\n",
       "( 1.91, -inf)\t( 7.30, -inf)"
      ]
     },
     "execution_count": 11,
     "metadata": {},
     "output_type": "execute_result"
    }
   ],
   "source": [
    "gen_rect"
   ]
  },
  {
   "cell_type": "code",
   "execution_count": 12,
   "id": "48379f6b",
   "metadata": {},
   "outputs": [
    {
     "data": {
      "image/png": "[encoded data removed]",
      "text/plain": [
       "<Figure size 432x288 with 1 Axes>"
      ]
     },
     "metadata": {
      "needs_background": "light"
     },
     "output_type": "display_data"
    }
   ],
   "source": [
    "# plot\n",
    "### most specific => blue\n",
    "### most general => red\n",
    "fig = plt.figure()\n",
    "ax = fig.add_subplot(111)\n",
    "spec_rect.plot(ax, 'blue')\n",
    "gen_rect.plot(ax, 'yellow')\n",
    "plot_dataset(ax, dataset)\n",
    "plt.title('Hypothesis')\n",
    "plt.xlabel('x_0')\n",
    "plt.ylabel('x_1')\n",
    "plt.show()"
   ]
  },
  {
   "cell_type": "markdown",
   "id": "f86940f1",
   "metadata": {},
   "source": [
    "#### 2. Hypothesis Class = Circle"
   ]
  },
  {
   "cell_type": "code",
   "execution_count": 75,
   "id": "f2f0c069",
   "metadata": {},
   "outputs": [],
   "source": [
    "### function for most specific hypothesis with circle\n",
    "\n",
    "def welzl(p1, p2 = []):\n",
    "\n",
    "    if (len(p1) == 0):\n",
    "        if (len(p2) == 0):\n",
    "            return Circle()\n",
    "        if (len(p2) == 1):\n",
    "            return Circle(p2[0], 0)\n",
    "        if (len(p2) == 2):\n",
    "            c = Circle()\n",
    "            c.construct_from_diameter_endpoints(*p2)\n",
    "            return c\n",
    "\n",
    "    if (len(p2) == 3):\n",
    "        c = Circle()\n",
    "        for i in range(3):\n",
    "            for j in range(i+1, 3):\n",
    "                c.construct_from_diameter_endpoints(p2[i], p2[j])\n",
    "                if c.contains(*p2[3-i-j]):\n",
    "                    return c\n",
    "        c.construct_from_three_points(*p2)\n",
    "        return c\n",
    "\n",
    "    p = p1.pop()\n",
    "\n",
    "    c = welzl(p1, p2.copy())\n",
    "    if (c.contains(*p)):\n",
    "        p1.append(p)\n",
    "        return c\n",
    "\n",
    "    p2.append(p)\n",
    "    c = welzl(p1, p2.copy())\n",
    "    p1.append(p)\n",
    "    return c\n",
    "\n",
    "\n",
    "def most_specific_circle(dataset: Dataset) -> Circle:\n",
    "    pos = []\n",
    "    for ((x, y), t) in dataset:\n",
    "        if (t == 0): continue\n",
    "        pos.append([x, y])\n",
    "                \n",
    "    random.shuffle(pos)\n",
    "    \n",
    "    circle = welzl(pos)\n",
    "    return circle"
   ]
  },
  {
   "cell_type": "code",
   "execution_count": 76,
   "id": "eeb1e11a",
   "metadata": {},
   "outputs": [],
   "source": [
    "spec_circle = most_specific_circle(dataset)\n",
    "# gen_circle = most_general_circle(dataset)"
   ]
  },
  {
   "cell_type": "code",
   "execution_count": 77,
   "id": "95854ae4",
   "metadata": {},
   "outputs": [
    {
     "data": {
      "text/plain": [
       "Circle => \tCenter: ['4.31', '5.34']\tRadius:  2.33"
      ]
     },
     "execution_count": 77,
     "metadata": {},
     "output_type": "execute_result"
    }
   ],
   "source": [
    "spec_circle"
   ]
  },
  {
   "cell_type": "code",
   "execution_count": 78,
   "id": "18075fdf",
   "metadata": {},
   "outputs": [
    {
     "data": {
      "image/png": "[encoded data removed]",
      "text/plain": [
       "<Figure size 432x288 with 1 Axes>"
      ]
     },
     "metadata": {
      "needs_background": "light"
     },
     "output_type": "display_data"
    }
   ],
   "source": [
    "# plot\n",
    "### most specific => blue\n",
    "### most general => red\n",
    "fig = plt.figure()\n",
    "ax = fig.add_subplot(111)\n",
    "spec_circle.plot(ax, 'blue')\n",
    "# gen_circle.plot(ax, 'yellow')\n",
    "plot_dataset(ax, dataset)\n",
    "plt.title('Hypothesis')\n",
    "plt.xlabel('x_0')\n",
    "plt.ylabel('x_1')\n",
    "plt.show()"
   ]
  },
  {
   "cell_type": "code",
   "execution_count": null,
   "id": "3e7650e5",
   "metadata": {},
   "outputs": [],
   "source": []
  },
  {
   "cell_type": "code",
   "execution_count": null,
   "id": "1f75d8a0",
   "metadata": {},
   "outputs": [],
   "source": []
  },
  {
   "cell_type": "code",
   "execution_count": null,
   "id": "23ba0448",
   "metadata": {},
   "outputs": [],
   "source": []
  },
  {
   "cell_type": "code",
   "execution_count": null,
   "id": "69728872",
   "metadata": {},
   "outputs": [],
   "source": []
  },
  {
   "cell_type": "code",
   "execution_count": 18,
   "id": "dedba095",
   "metadata": {},
   "outputs": [
    {
     "ename": "NameError",
     "evalue": "name 'r' is not defined",
     "output_type": "error",
     "traceback": [
      "\u001b[0;31m---------------------------------------------------------------------------\u001b[0m",
      "\u001b[0;31mNameError\u001b[0m                                 Traceback (most recent call last)",
      "Input \u001b[0;32mIn [18]\u001b[0m, in \u001b[0;36m<module>\u001b[0;34m\u001b[0m\n\u001b[1;32m      2\u001b[0m fig \u001b[38;5;241m=\u001b[39m plt\u001b[38;5;241m.\u001b[39mfigure()\n\u001b[1;32m      3\u001b[0m ax \u001b[38;5;241m=\u001b[39m fig\u001b[38;5;241m.\u001b[39madd_subplot(\u001b[38;5;241m111\u001b[39m)\n\u001b[0;32m----> 4\u001b[0m \u001b[43mr\u001b[49m\u001b[38;5;241m.\u001b[39mplot(ax)\n\u001b[1;32m      5\u001b[0m c\u001b[38;5;241m.\u001b[39mplot(ax)\n\u001b[1;32m      6\u001b[0m plot_dataset(ax, dataset)\n",
      "\u001b[0;31mNameError\u001b[0m: name 'r' is not defined"
     ]
    },
    {
     "data": {
      "image/png": "[encoded data removed]",
      "text/plain": [
       "<Figure size 432x288 with 1 Axes>"
      ]
     },
     "metadata": {
      "needs_background": "light"
     },
     "output_type": "display_data"
    }
   ],
   "source": [
    "# snippet for generating plots\n",
    "fig = plt.figure()\n",
    "ax = fig.add_subplot(111)\n",
    "r.plot(ax)\n",
    "c.plot(ax)\n",
    "plot_dataset(ax, dataset)\n",
    "plt.axis('equal')\n",
    "plt.show()"
   ]
  }
 ],
 "metadata": {
  "kernelspec": {
   "display_name": "Python 3 (ipykernel)",
   "language": "python",
   "name": "python3"
  },
  "language_info": {
   "codemirror_mode": {
    "name": "ipython",
    "version": 3
   },
   "file_extension": ".py",
   "mimetype": "text/x-python",
   "name": "python",
   "nbconvert_exporter": "python",
   "pygments_lexer": "ipython3",
   "version": "3.8.10"
  }
 },
 "nbformat": 4,
 "nbformat_minor": 5
}
