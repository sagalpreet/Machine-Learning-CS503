{
 "cells": [
  {
   "cell_type": "code",
   "execution_count": 25,
   "id": "0e78aaef",
   "metadata": {},
   "outputs": [],
   "source": [
    "import numpy as np\n",
    "import matplotlib.pyplot as plt\n",
    "import random\n",
    "from math import ceil, floor\n",
    "\n",
    "random.seed(0)"
   ]
  },
  {
   "cell_type": "markdown",
   "id": "dbdd05c2",
   "metadata": {},
   "source": [
    "## Finding the most specific/general hypothesis [Warm-UP]"
   ]
  },
  {
   "cell_type": "code",
   "execution_count": 3,
   "id": "8d73432b",
   "metadata": {},
   "outputs": [],
   "source": [
    "# utilities for creating a dataset\n",
    "\n",
    "### data structure to represent dataset\n",
    "class Dataset:\n",
    "    def __init__(self, x: np.ndarray, y: np.ndarray, n = None):\n",
    "        # todo: assertion to verify the dimension of x and y\n",
    "        self.__x = x\n",
    "        self.__y = y\n",
    "        self.__n = n if n else len(x)\n",
    "        \n",
    "    def __getitem__(self, index: int):\n",
    "        #todo: assertion to verify out of bounds\n",
    "        return self.__x[index], self.__y[index]\n",
    "    \n",
    "    def __setitem__(self, index: int, x_: np.ndarray, y_: np.ndarray):\n",
    "        # todo: assertion to verify out of bounds\n",
    "        self.__x[index] = x_\n",
    "        self.__y[index] = y_\n",
    "    \n",
    "    def __len__(self):\n",
    "        return self.__n\n",
    "    \n",
    "    def __del__(self):\n",
    "        del(self.__x)\n",
    "        del(self.__y)\n",
    "        del(self.__n)\n",
    "    \n",
    "    def __iter__(self):\n",
    "        self.__index = 0\n",
    "        return self\n",
    "    \n",
    "    def __next__(self):\n",
    "        if (self.__index < self.__n):\n",
    "            self.__index += 1\n",
    "            return self[self.__index - 1]\n",
    "        raise StopIteration\n",
    "\n",
    "### helper functions\n",
    "def binary_sampling(p: float) -> int:\n",
    "    # todo: assertion to verify validity of p\n",
    "    value = 1 if (random.random() < p) else 0\n",
    "    return value\n",
    "\n",
    "\n",
    "def uniform_range_sampling(union_of_ranges: list) -> float:\n",
    "    # make assertions about correctness of union_of_ranges\n",
    "    total_length = sum([(upper-lower) for lower, upper in union_of_ranges])\n",
    "    uniform_sample = random.uniform(0, total_length)\n",
    "\n",
    "    for lower, upper in union_of_ranges:\n",
    "        uniform_sample += lower\n",
    "        if (uniform_sample < upper):\n",
    "            return uniform_sample\n",
    "        uniform_sample -= upper\n",
    "\n",
    "    return None\n",
    "\n",
    "\n",
    "def x_sampling(x_range: dict, y: np.ndarray):\n",
    "    x = np.array([[uniform_range_sampling(union_of_ranges) for union_of_ranges in x_range[target]] for target in y])    \n",
    "    return x"
   ]
  },
  {
   "cell_type": "code",
   "execution_count": 4,
   "id": "690ff636",
   "metadata": {},
   "outputs": [],
   "source": [
    "# creating a dataset\n",
    "\n",
    "### setting up parameters required\n",
    "n = 30 # dataset-size\n",
    "p = 0.5 # probability of 1\n",
    "x_range = {1: [[(2, 7),], [(4, 6),]], 0: [[(0, 2), (7, 9)], [(1, 3), (6, 8)]]}\n",
    "\n",
    "\n",
    "def create_dataset(n, p, x_range):\n",
    "    ### generating vector y\n",
    "    y = np.array([binary_sampling(p) for _ in range(n)])\n",
    "\n",
    "    ### generating vector x\n",
    "    x = x_sampling(x_range, y)\n",
    "    \n",
    "    return Dataset(x, y)\n",
    "\n",
    "dataset = create_dataset(n, p, x_range)"
   ]
  },
  {
   "cell_type": "code",
   "execution_count": 29,
   "id": "a11a11e1",
   "metadata": {},
   "outputs": [
    {
     "name": "stdout",
     "output_type": "stream",
     "text": [
      "[1.90803911 7.46123971] 0\n",
      "[1.04196924 7.22011131] 0\n",
      "[4.74349652 4.0280834 ] 1\n",
      "[5.59852343 4.79764708] 1\n",
      "[8.29937991 6.6726128 ] 0\n",
      "[2.0057141  4.98715573] 1\n",
      "[8.4704111  1.97564351] 0\n",
      "[3.62602181 5.74094246] 1\n",
      "[2.95533546 5.13502148] 1\n",
      "[0.95446371 7.870161  ] 0\n",
      "[8.21271788 2.79187829] 0\n",
      "[0.32178327 2.28021842] 0\n",
      "[4.53970321 5.86566765] 1\n",
      "[0.43623138 6.20506898] 0\n",
      "[7.82624564 6.18976365] 0\n",
      "[6.07233432 5.08056721] 1\n",
      "[8.85535418 6.41274251] 0\n",
      "[7.35046826 2.77995611] 0\n",
      "[7.38514745 2.53960458] 0\n",
      "[7.30260406 2.16131801] 0\n",
      "[2.94695664 4.37345906] 1\n",
      "[7.45109272 6.62663756] 0\n",
      "[1.90612397 1.35929744] 0\n",
      "[8.03041569 7.50708148] 0\n",
      "[6.61690508 5.68492045] 1\n",
      "[6.49086561 5.84616488] 1\n",
      "[4.70299962 4.7825921 ] 1\n",
      "[7.8211336  2.10253649] 0\n",
      "[8.24651483 7.39794386] 0\n",
      "[8.58015587 6.35920473] 0\n"
     ]
    }
   ],
   "source": [
    "# printing the dataset\n",
    "for x, y in dataset:\n",
    "    print(x, y)"
   ]
  },
  {
   "cell_type": "markdown",
   "id": "24db8345",
   "metadata": {},
   "source": [
    "#### 1. Plotting the dataset"
   ]
  },
  {
   "cell_type": "code",
   "execution_count": 28,
   "id": "d4feeb7a",
   "metadata": {},
   "outputs": [
    {
     "data": {
      "image/png": "[encoded data removed]",
      "text/plain": [
       "<Figure size 432x288 with 1 Axes>"
      ]
     },
     "metadata": {
      "needs_background": "light"
     },
     "output_type": "display_data"
    }
   ],
   "source": [
    "### setting up parameters required\n",
    "color_code = {1: 'red', 0: 'green'}\n",
    "\n",
    "### function for plotting dataset\n",
    "def plot_dataset(dataset: Dataset):\n",
    "    x_scale = [0, 0]\n",
    "    y_scale = [0, 0]\n",
    "\n",
    "    for x, y in dataset:\n",
    "        plt.scatter(*x, color = color_code[y])\n",
    "        x_scale[0] = min(x_scale[0], x[0])\n",
    "        x_scale[1] = max(x_scale[1], x[0])\n",
    "        y_scale[0] = min(y_scale[0], x[1])\n",
    "        y_scale[1] = max(y_scale[1], x[1])\n",
    "\n",
    "    x_scale = [floor(x_scale[0]), ceil(x_scale[1])+1]\n",
    "    y_scale = [floor(y_scale[0]), ceil(y_scale[1])+1]\n",
    "\n",
    "    plt.title('Plot')\n",
    "    plt.xlabel('x_0')\n",
    "    plt.ylabel('x_1')\n",
    "\n",
    "    plt.xticks(range(*x_scale, 1))\n",
    "    plt.yticks(range(*y_scale, 1))\n",
    "\n",
    "    plt.show()\n",
    "\n",
    "plot_dataset(dataset)"
   ]
  },
  {
   "cell_type": "markdown",
   "id": "6e2f92c7",
   "metadata": {},
   "source": [
    "#### 2. Finding and Plotting most general and specific hypothesis"
   ]
  },
  {
   "cell_type": "code",
   "execution_count": null,
   "id": "100c6e81",
   "metadata": {},
   "outputs": [],
   "source": [
    "'''\n",
    "A rectagle can be uniquely identified by a pair of diagonally opposite vertices\n",
    "'''"
   ]
  }
 ],
 "metadata": {
  "kernelspec": {
   "display_name": "Python 3 (ipykernel)",
   "language": "python",
   "name": "python3"
  },
  "language_info": {
   "codemirror_mode": {
    "name": "ipython",
    "version": 3
   },
   "file_extension": ".py",
   "mimetype": "text/x-python",
   "name": "python",
   "nbconvert_exporter": "python",
   "pygments_lexer": "ipython3",
   "version": "3.8.10"
  }
 },
 "nbformat": 4,
 "nbformat_minor": 5
}
